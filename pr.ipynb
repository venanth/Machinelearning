{
 "cells": [
  {
   "cell_type": "code",
   "execution_count": 14,
   "metadata": {},
   "outputs": [
    {
     "name": "stdout",
     "output_type": "stream",
     "text": [
      "           0         1         2\n",
      "0   0.090909  0.071429  0.000000\n",
      "1   0.181818  0.285714  0.000000\n",
      "2   0.181818  0.071429  0.000000\n",
      "3   0.090909  0.000000  0.000000\n",
      "4   0.363636  0.571429  0.333333\n",
      "5   0.090909  0.000000  0.000000\n",
      "6   0.090909  0.000000  0.000000\n",
      "7   0.181818  0.285714  0.000000\n",
      "8   0.181818  0.071429  0.000000\n",
      "9   0.090909  0.071429  0.000000\n",
      "10  0.090909  0.071429  0.000000\n",
      "11  0.090909  0.071429  0.000000\n",
      "12  0.181818  0.285714  0.000000\n",
      "13  0.181818  0.285714  0.000000\n",
      "14  0.181818  0.071429  0.000000\n",
      "15  0.363636  0.571429  0.333333\n",
      "16  0.181818  0.285714  0.000000\n",
      "17  0.000000  0.071429  0.000000\n",
      "18  0.000000  0.071429  0.000000\n",
      "19  0.363636  0.571429  0.333333\n",
      "20  0.000000  0.071429  0.000000\n",
      "21  0.000000  0.071429  0.000000\n",
      "22  0.363636  0.571429  0.333333\n",
      "23  0.000000  0.071429  0.000000\n",
      "24  0.090909  0.071429  0.000000\n",
      "25  0.000000  0.000000  0.333333\n",
      "26  0.000000  0.000000  0.333333\n",
      "27  0.000000  0.000000  0.333333\n"
     ]
    }
   ],
   "source": [
    "# include modules\n",
    "from os import listdir #here we only want to import listdir\"list directory\",\n",
    "#not the entire os module for the the sake of speed and memory \n",
    "from os.path import isfile, join #same here but what is isfile???\n",
    "import math #here we are impoting math means all formulations and stuffs.\n",
    "import re # regular expression\n",
    "from pandas import DataFrame\n",
    "\n",
    "\n",
    "# fetching documents\n",
    "mypath = \"C:/Users/Venant/Desktop/basicscorpus\"\n",
    "\n",
    "filenames = [f for f in listdir(mypath) if isfile(join(mypath, f))]\n",
    "#print(filenames)\n",
    "\n",
    "docs = []\n",
    "for file in filenames:\n",
    "    file_path = mypath + '/' + file \n",
    "    with open(file_path) as f:\n",
    "        str = ' '.join(f.readlines())\n",
    "        docs.append(str)\n",
    "#print(docs)\n",
    "\n",
    "data = []\n",
    "\n",
    "# calculations\n",
    "words = []\n",
    "for doc in docs:\n",
    "    words += doc.split()\n",
    "\n",
    "#print(words)\n",
    "\n",
    "# calculate tf\n",
    "for word in words:\n",
    "    lst = []\n",
    "    for doc in docs:\n",
    "        word_count = sum(1 for match in re.finditer(word, doc))\n",
    "        total_word_count = len(doc.split())\n",
    "        tf = word_count / total_word_count\n",
    "        lst.append(tf)\n",
    "    data.append(lst)\n",
    "#print(data)\n",
    "#print(lst)\n",
    "df = DataFrame(data)\n",
    "print(df)\n",
    "\n",
    "\n"
   ]
  },
  {
   "cell_type": "code",
   "execution_count": null,
   "metadata": {},
   "outputs": [],
   "source": []
  }
 ],
 "metadata": {
  "kernelspec": {
   "display_name": "Python 3",
   "language": "python",
   "name": "python3"
  },
  "language_info": {
   "codemirror_mode": {
    "name": "ipython",
    "version": 3
   },
   "file_extension": ".py",
   "mimetype": "text/x-python",
   "name": "python",
   "nbconvert_exporter": "python",
   "pygments_lexer": "ipython3",
   "version": "3.5.0"
  }
 },
 "nbformat": 4,
 "nbformat_minor": 2
}
