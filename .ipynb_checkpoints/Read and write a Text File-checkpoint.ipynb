{
 "cells": [
  {
   "cell_type": "code",
   "execution_count": 143,
   "metadata": {},
   "outputs": [],
   "source": [
    "#file objects.\n",
    "#f=open(\"C:\\Users\\Venant\\Desktop\\001.txt\",'r','w','a')\n",
    "#r:reading, w:write,a:append\n",
    "#print(f.name)\n",
    "#f.close()\n",
    "#below is the contact manager where you don't need to write the f.close() always after you exit the file \n",
    "#with open('C:/Users/Venant/Desktop/001.txt', 'r') as f: \n",
    "    #here you don't need to worry about closing your file all the time \n",
    "    #f_contents=f.read()\n",
    "    #print(f_contents,end='')\n",
    "    #for line in f:\n",
    "        #print(line,end='')\\\n",
    "        #size_to_read=10\n",
    "        #f_contents=f.read(size_to_read)\n",
    "        #print(f.tell())\n",
    "        #2560 is the number of caracter in this file \n",
    "        #f.tell tell you the current position we are reading in our file as above\n",
    "        #seek method is to manipulate our current position.\n",
    "        #while len(f_contents)>0:\n",
    "        #    print(f_contents,end='')\n",
    "        #    f_contents=f.read(size_to_read)\n",
    "        #print(f_contents, end='')\n",
    "        #f.seek(0)\n",
    "        #f_contents=f.read(size_to_read)\n",
    "        #print(f_contents)\n",
    "        #f.write(\"0\")\n",
    "        #this f.write statement will throw me an error why beause in the above function (with open('C:/Users/Venant/Desktop/001.txt', 'r') as f:)  is an a read mode not not writable.\n",
    "#with open('C:/Users/Venant/Desktop/test.txt', 'w') as f:\n",
    "#    f.write('Regina is testing you alot')\n",
    "#    f.seek(0)\n",
    "#    f.write('T')\n",
    "#    print(f_contents)\n",
    "#with open('C:/Users/Venant/Desktop/001.txt', 'r') as rf:  \n",
    "#    with open('C:/Users/Venant/Desktop/001_kopi.txt', 'w') as wf:\n",
    "#        for line in rf:\n",
    "#            wf.write(line)\n",
    "            \n",
    "#with open('C:/Users/Venant/Desktop/scotty&tim.jpg', 'rb') as rf:  \n",
    "#    with open('C:/Users/Venant/Desktop/scotty&tim_kopy.jpg', 'wb') as wf:\n",
    "#        for line in rf:\n",
    "#            wf.write(line)\n",
    "            \n",
    "with open('C:/Users/Venant/Desktop/scotty&tim.jpg', 'rb') as rf:  \n",
    "    with open('C:/Users/Venant/Desktop/scotty&tim_copy.jpg', 'wb') as wf:\n",
    "        chunk_size=4096\n",
    "        rf_chunk=rf.read(chunk_size)\n",
    "        while len(rf_chunk)>0:\n",
    "            wf.write(rf_chunk)\n",
    "            rf_chunk=rf.read(chunk_size)\n",
    "            \n",
    "        \n",
    "  \n",
    "        \n",
    "        \n",
    "    \n",
    "   "
   ]
  },
  {
   "cell_type": "code",
   "execution_count": null,
   "metadata": {},
   "outputs": [],
   "source": []
  }
 ],
 "metadata": {
  "kernelspec": {
   "display_name": "Python 3",
   "language": "python",
   "name": "python3"
  },
  "language_info": {
   "codemirror_mode": {
    "name": "ipython",
    "version": 3
   },
   "file_extension": ".py",
   "mimetype": "text/x-python",
   "name": "python",
   "nbconvert_exporter": "python",
   "pygments_lexer": "ipython3",
   "version": "3.5.0"
  }
 },
 "nbformat": 4,
 "nbformat_minor": 2
}
