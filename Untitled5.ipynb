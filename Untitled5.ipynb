{
 "cells": [
  {
   "cell_type": "code",
   "execution_count": 25,
   "metadata": {},
   "outputs": [],
   "source": [
    "# include modules\n",
    "from os import listdir #here we only want to import listdir\"list directory\",\n",
    "#not the entire os module for the the sake of speed and memory \n",
    "from os.path import isfile, join #same here but what is isfile???\n",
    "import math #here we are impoting math means all formulations and stuffs.\n",
    "import re # regular expression\n",
    "from pandas import DataFrame\n",
    "\n",
    "# fetching documents\n",
    "mypath = \"C:/Users/Venant/Desktop/Habamungu\"\n",
    "\n",
    "filenames = [f for f in listdir(mypath) if isfile(join(mypath, f))]\n",
    "#print(filenames)\n",
    "\n",
    "docs= []\n",
    "for file in filenames:\n",
    "    file_path = mypath + '/' + file \n",
    "    with open(file_path) as f:\n",
    "        str = ' '.join(f.readlines())\n",
    "        docs.append(str)\n",
    "\n",
    "\n",
    "#tf_list = [] \n",
    "#idf_list = []\n",
    "\n",
    "# calculations\n",
    "words = []\n",
    "for doc in docs:\n",
    "    words += doc.split()\n",
    "#print(words)\n",
    "\n",
    "WordDict=dict.fromkeys(words,0)\n",
    "\n",
    "\n",
    "#Now I'll count the words in my bags\n",
    "for i in words:\n",
    "    WordDict[i]+=1    \n",
    "#WordDict\n",
    "    \n",
    "\n"
   ]
  },
  {
   "cell_type": "code",
   "execution_count": null,
   "metadata": {},
   "outputs": [],
   "source": []
  }
 ],
 "metadata": {
  "kernelspec": {
   "display_name": "Python 3",
   "language": "python",
   "name": "python3"
  },
  "language_info": {
   "codemirror_mode": {
    "name": "ipython",
    "version": 3
   },
   "file_extension": ".py",
   "mimetype": "text/x-python",
   "name": "python",
   "nbconvert_exporter": "python",
   "pygments_lexer": "ipython3",
   "version": "3.5.0"
  }
 },
 "nbformat": 4,
 "nbformat_minor": 2
}
