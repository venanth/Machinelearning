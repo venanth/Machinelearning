{
 "cells": [
  {
   "cell_type": "code",
   "execution_count": 10,
   "metadata": {},
   "outputs": [],
   "source": [
    "#here you don't need to worry about closing your file all the time because of the as f ###\n",
    "#with open('C:/Users/Venant/Desktop/test1.txt', 'r') as f: \n",
    "    #f_contents=f.read()\n",
    "    #print(f_contents,end='')\n",
    "    #for line in f:\n",
    "        #print(line,end='')\n",
    "        #size_to_read=10\n",
    "        #f_contents=f.read(1)\n",
    "        #print(f.tell())\n",
    "        #2560 is the number of caracter in this file \n",
    "        #f.tell tell you the current position we are reading in our file as above\n",
    "        #seek method is to manipulate our current position.\n",
    "        #while len(f_contents)>0:\n",
    "        #    print(f_contents,end='')\n",
    "        #    f_contents=f.read(size_to_read)\n",
    "        #print(f_contents, end='')\n",
    "        #f.seek(0)\n",
    "        #f_contents=f.read(size_to_read)\n",
    "        #print(f_contents)\n",
    "        #f.write(\"0\")\n",
    "        #this f.write statement will throw me an error why beause in the above function (with open('C:/Users/Venant/Desktop/001.txt', 'r') as f:)  is an a read mode not not writable.\n",
    "#with open('C:/Users/Venant/Desktop/test.txt', 'w') as f:\n",
    "#    f.write('Regina is testing you alot')\n",
    "#    f.seek(0)\n",
    "#    f.write('T')\n",
    "#    print(f_contents)\n",
    "#with open('C:/Users/Venant/Desktop/001.txt', 'r') as rf:  \n",
    "#    with open('C:/Users/Venant/Desktop/001_kopi.txt', 'w') as wf:\n",
    "#        for line in rf:\n",
    "#            wf.write(line)\n",
    "            \n",
    "#with open('C:/Users/Venant/Desktop/scotty&tim.jpg', 'rb') as rf:  \n",
    "#    with open('C:/Users/Venant/Desktop/scotty&tim_kopy.jpg', 'wb') as wf:\n",
    "#        for line in rf:\n",
    "#            wf.write(line)\n",
    "            \n",
    "#with open('C:/Users/Venant/Desktop/scotty&tim.jpg', 'rb') as rf:  \n",
    "    #with open('C:/Users/Venant/Desktop/scotty&tim_copy.jpg', 'wb') as wf:\n",
    "        #chunk_size=4096\n",
    "        #rf_chunk=rf.read(chunk_size)\n",
    "        #while len(rf_chunk)>0:\n",
    "            #wf.write(rf_chunk)\n",
    "            #rf_chunk=rf.read(chunk_size) "
   ]
  },
  {
   "cell_type": "code",
   "execution_count": 21,
   "metadata": {},
   "outputs": [],
   "source": [
    "#with open (\"C:/Users/Venant/Desktop/test1.txt\") as g:\n",
    "    #print (g.read())\n",
    "    #for i in g.readlines():\n",
    "        #print('this is a line =>' +i)\n"
   ]
  },
  {
   "cell_type": "code",
   "execution_count": 31,
   "metadata": {},
   "outputs": [
    {
     "name": "stdout",
     "output_type": "stream",
     "text": [
      "this is a line =>(1)Regina is testing you alot. Testing students is the way to know their knowledge.Thanks you very much.Data mining is the process of discovering patterns in large data sets involving methods at the intersection of machine learning, statistics, and database systems.\n",
      "\n",
      "this is a line =>(2)Data mining is the process of discovering patterns in large data sets involving methods at the intersection of machine learning, statistics, and database systems.The term is a misnomer, because the goal is the extraction of patterns and knowledge from large amounts of data, not the extraction  of data itself.\n",
      "\n",
      "this is a line =>(3)The term is a misnomer, because the goal is the extraction of patterns and knowledge from large amounts of data, not the extraction  of data itself..Data mining is the process of discovering patterns in large data sets involving methods at the intersection of machine learning, statistics, and database systems\n",
      "\n",
      "this is a line =>(4)Within the field of data analytics, machine learning is a method used to devise complex models and algorithms that lend themselves to prediction; in commercial use, this is known as predictive analytics. These analytical models allow researchers, data scientists, engineers, and analysts to produce reliable, repeatable decisions and results and uncover hidden insights through learning from historical relationships and trends in the data\n",
      "\n",
      "this is a line =>(5)Artificial neural networks (ANNs) or connectionist systems are computing systems vaguely inspired by the biological neural networks that constitute animal brains. Such systems learn tasks by considering examples, generally without task-specific programming. For example, in image recognition, they might learn to identify images that contain cats by analyzing example images that have been manually labeled as \"cat\" or \"no cat\" and using the results to identify cats in other images. They do this without any a priori knowledge about cats, e.g., that they have fur, tails, whiskers and cat-like faces. Instead, they evolve their own set of relevant characteristics from the learning material that they process.\n"
     ]
    }
   ],
   "source": [
    "with open (\"C:/Users/Venant/Desktop/5docs.txt\", \"r\") as g:\n",
    "    #print (g.read())\n",
    "    for i in g.readlines():\n",
    "        print('this is a line =>' +i)"
   ]
  },
  {
   "cell_type": "code",
   "execution_count": 36,
   "metadata": {},
   "outputs": [
    {
     "name": "stdout",
     "output_type": "stream",
     "text": [
      "(1)Regina is testing you alot. Testing students is the way to know their knowledge.Thanks you very much.Data mining is the process of discovering patterns in large data sets involving methods at the intersection of machine learning, statistics, and database systems.\n",
      "(2)Data mining is the process of discovering patterns in large data sets involving methods at the intersection of machine learning, statistics, and database systems.The term is a misnomer, because the goal is the extraction of patterns and knowledge from large amounts of data, not the extraction  of data itself.\n",
      "(3)The term is a misnomer, because the goal is the extraction of patterns and knowledge from large amounts of data, not the extraction  of data itself..Data mining is the process of discovering patterns in large data sets involving methods at the intersection of machine learning, statistics, and database systems\n",
      "(4)Within the field of data analytics, machine learning is a method used to devise complex models and algorithms that lend themselves to prediction; in commercial use, this is known as predictive analytics. These analytical models allow researchers, data scientists, engineers, and analysts to produce reliable, repeatable decisions and results and uncover hidden insights through learning from historical relationships and trends in the data\n",
      "(5)Artificial neural networks (ANNs) or connectionist systems are computing systems vaguely inspired by the biological neural networks that constitute animal brains. Such systems learn tasks by considering examples, generally without task-specific programming. For example, in image recognition, they might learn to identify images that contain cats by analyzing example images that have been manually labeled as \"cat\" or \"no cat\" and using the results to identify cats in other images. They do this without any a priori knowledge about cats, e.g., that they have fur, tails, whiskers and cat-like faces. Instead, they evolve their own set of relevant characteristics from the learning material that they process.\n"
     ]
    }
   ],
   "source": [
    "with open (\"C:/Users/Venant/Desktop/5docs.txt\", \"r\") as g:\n",
    "    print (g.read())\n",
    "    "
   ]
  },
  {
   "cell_type": "code",
   "execution_count": 39,
   "metadata": {},
   "outputs": [],
   "source": [
    "with open (\"C:/Users/Venant/Desktop/5docs.txt\", \"r\") as g:\n",
    "    bow = g.read()"
   ]
  },
  {
   "cell_type": "code",
   "execution_count": 40,
   "metadata": {},
   "outputs": [
    {
     "name": "stdout",
     "output_type": "stream",
     "text": [
      "(1)Regina is testing you alot. Testing students is the way to know their knowledge.Thanks you very much.Data mining is the process of discovering patterns in large data sets involving methods at the intersection of machine learning, statistics, and database systems.\n",
      "(2)Data mining is the process of discovering patterns in large data sets involving methods at the intersection of machine learning, statistics, and database systems.The term is a misnomer, because the goal is the extraction of patterns and knowledge from large amounts of data, not the extraction  of data itself.\n",
      "(3)The term is a misnomer, because the goal is the extraction of patterns and knowledge from large amounts of data, not the extraction  of data itself..Data mining is the process of discovering patterns in large data sets involving methods at the intersection of machine learning, statistics, and database systems\n",
      "(4)Within the field of data analytics, machine learning is a method used to devise complex models and algorithms that lend themselves to prediction; in commercial use, this is known as predictive analytics. These analytical models allow researchers, data scientists, engineers, and analysts to produce reliable, repeatable decisions and results and uncover hidden insights through learning from historical relationships and trends in the data\n",
      "(5)Artificial neural networks (ANNs) or connectionist systems are computing systems vaguely inspired by the biological neural networks that constitute animal brains. Such systems learn tasks by considering examples, generally without task-specific programming. For example, in image recognition, they might learn to identify images that contain cats by analyzing example images that have been manually labeled as \"cat\" or \"no cat\" and using the results to identify cats in other images. They do this without any a priori knowledge about cats, e.g., that they have fur, tails, whiskers and cat-like faces. Instead, they evolve their own set of relevant characteristics from the learning material that they process.\n"
     ]
    }
   ],
   "source": [
    "print(bow)"
   ]
  },
  {
   "cell_type": "code",
   "execution_count": 44,
   "metadata": {},
   "outputs": [],
   "source": [
    "BOFW = bow.split(\" \")"
   ]
  },
  {
   "cell_type": "code",
   "execution_count": 45,
   "metadata": {},
   "outputs": [
    {
     "name": "stdout",
     "output_type": "stream",
     "text": [
      "['(1)Regina', 'is', 'testing', 'you', 'alot.', 'Testing', 'students', 'is', 'the', 'way', 'to', 'know', 'their', 'knowledge.Thanks', 'you', 'very', 'much.Data', 'mining', 'is', 'the', 'process', 'of', 'discovering', 'patterns', 'in', 'large', 'data', 'sets', 'involving', 'methods', 'at', 'the', 'intersection', 'of', 'machine', 'learning,', 'statistics,', 'and', 'database', 'systems.\\n(2)Data', 'mining', 'is', 'the', 'process', 'of', 'discovering', 'patterns', 'in', 'large', 'data', 'sets', 'involving', 'methods', 'at', 'the', 'intersection', 'of', 'machine', 'learning,', 'statistics,', 'and', 'database', 'systems.The', 'term', 'is', 'a', 'misnomer,', 'because', 'the', 'goal', 'is', 'the', 'extraction', 'of', 'patterns', 'and', 'knowledge', 'from', 'large', 'amounts', 'of', 'data,', 'not', 'the', 'extraction', '', 'of', 'data', 'itself.\\n(3)The', 'term', 'is', 'a', 'misnomer,', 'because', 'the', 'goal', 'is', 'the', 'extraction', 'of', 'patterns', 'and', 'knowledge', 'from', 'large', 'amounts', 'of', 'data,', 'not', 'the', 'extraction', '', 'of', 'data', 'itself..Data', 'mining', 'is', 'the', 'process', 'of', 'discovering', 'patterns', 'in', 'large', 'data', 'sets', 'involving', 'methods', 'at', 'the', 'intersection', 'of', 'machine', 'learning,', 'statistics,', 'and', 'database', 'systems\\n(4)Within', 'the', 'field', 'of', 'data', 'analytics,', 'machine', 'learning', 'is', 'a', 'method', 'used', 'to', 'devise', 'complex', 'models', 'and', 'algorithms', 'that', 'lend', 'themselves', 'to', 'prediction;', 'in', 'commercial', 'use,', 'this', 'is', 'known', 'as', 'predictive', 'analytics.', 'These', 'analytical', 'models', 'allow', 'researchers,', 'data', 'scientists,', 'engineers,', 'and', 'analysts', 'to', 'produce', 'reliable,', 'repeatable', 'decisions', 'and', 'results', 'and', 'uncover', 'hidden', 'insights', 'through', 'learning', 'from', 'historical', 'relationships', 'and', 'trends', 'in', 'the', 'data\\n(5)Artificial', 'neural', 'networks', '(ANNs)', 'or', 'connectionist', 'systems', 'are', 'computing', 'systems', 'vaguely', 'inspired', 'by', 'the', 'biological', 'neural', 'networks', 'that', 'constitute', 'animal', 'brains.', 'Such', 'systems', 'learn', 'tasks', 'by', 'considering', 'examples,', 'generally', 'without', 'task-specific', 'programming.', 'For', 'example,', 'in', 'image', 'recognition,', 'they', 'might', 'learn', 'to', 'identify', 'images', 'that', 'contain', 'cats', 'by', 'analyzing', 'example', 'images', 'that', 'have', 'been', 'manually', 'labeled', 'as', '\"cat\"', 'or', '\"no', 'cat\"', 'and', 'using', 'the', 'results', 'to', 'identify', 'cats', 'in', 'other', 'images.', 'They', 'do', 'this', 'without', 'any', 'a', 'priori', 'knowledge', 'about', 'cats,', 'e.g.,', 'that', 'they', 'have', 'fur,', 'tails,', 'whiskers', 'and', 'cat-like', 'faces.', 'Instead,', 'they', 'evolve', 'their', 'own', 'set', 'of', 'relevant', 'characteristics', 'from', 'the', 'learning', 'material', 'that', 'they', 'process.']\n"
     ]
    }
   ],
   "source": [
    "print(BOFW)"
   ]
  },
  {
   "cell_type": "code",
   "execution_count": 51,
   "metadata": {},
   "outputs": [
    {
     "name": "stdout",
     "output_type": "stream",
     "text": [
      "doc1:(1)Regina is testing you alot. Testing students is the way to know their knowledge.Thanks you very much.Data mining is the process of discovering patterns in large data sets involving methods at the intersection of machine learning, statistics, and database systems.\n",
      "\n"
     ]
    }
   ],
   "source": [
    "with open (\"C:/Users/Venant/Desktop/5docs.txt\", \"r\") as g:\n",
    "    for i in g.readlines(1):\n",
    "        print('doc1:' + i)"
   ]
  },
  {
   "cell_type": "code",
   "execution_count": 53,
   "metadata": {},
   "outputs": [
    {
     "name": "stdout",
     "output_type": "stream",
     "text": [
      "['(1)Regina is testing you alot. Testing students is the way to know their knowledge.Thanks you very much.Data mining is the process of discovering patterns in large data sets involving methods at the intersection of machine learning, statistics, and database systems.\\n']\n",
      "['(2)Data mining is the process of discovering patterns in large data sets involving methods at the intersection of machine learning, statistics, and database systems.The term is a misnomer, because the goal is the extraction of patterns and knowledge from large amounts of data, not the extraction  of data itself.\\n']\n",
      "['(3)The term is a misnomer, because the goal is the extraction of patterns and knowledge from large amounts of data, not the extraction  of data itself..Data mining is the process of discovering patterns in large data sets involving methods at the intersection of machine learning, statistics, and database systems\\n']\n",
      "['(4)Within the field of data analytics, machine learning is a method used to devise complex models and algorithms that lend themselves to prediction; in commercial use, this is known as predictive analytics. These analytical models allow researchers, data scientists, engineers, and analysts to produce reliable, repeatable decisions and results and uncover hidden insights through learning from historical relationships and trends in the data\\n']\n",
      "['(5)Artificial neural networks (ANNs) or connectionist systems are computing systems vaguely inspired by the biological neural networks that constitute animal brains. Such systems learn tasks by considering examples, generally without task-specific programming. For example, in image recognition, they might learn to identify images that contain cats by analyzing example images that have been manually labeled as \"cat\" or \"no cat\" and using the results to identify cats in other images. They do this without any a priori knowledge about cats, e.g., that they have fur, tails, whiskers and cat-like faces. Instead, they evolve their own set of relevant characteristics from the learning material that they process.']\n"
     ]
    }
   ],
   "source": [
    "with open (\"C:/Users/Venant/Desktop/5docs.txt\", \"r\") as g:\n",
    "    DOCUM1 = g.readlines(1)\n",
    "    DOCUM2 = g.readlines(2)\n",
    "    DOCUM3 = g.readlines(3)\n",
    "    DOCUM4 = g.readlines(4)\n",
    "    DOCUM5 = g.readlines(5)\n",
    "    print(DOCUM1)\n",
    "    print(DOCUM2)\n",
    "    print(DOCUM3)\n",
    "    print(DOCUM4)\n",
    "    print(DOCUM5)\n",
    "    #for i in g.readlines(1):\n",
    "        #print('doc1:' + i)\n",
    "#BOFW = bow.split(\" \")\n",
    "#print(BOFW)"
   ]
  },
  {
   "cell_type": "code",
   "execution_count": 60,
   "metadata": {},
   "outputs": [
    {
     "name": "stdout",
     "output_type": "stream",
     "text": [
      "(1)Regina is testing you alot. Testing students is the way to know their knowledge.Thanks you very much.Data mining is the process of discovering patterns in large data sets involving methods at the intersection of machine learning, statistics, and database systems.\n",
      "(2)Data mining is the process of discovering patterns in large data sets involving methods at the intersection of machine learning, statistics, and database systems.The term is a misnomer, because the goal is the extraction of patterns and knowledge from large amounts of data, not the extraction  of data itself.\n",
      "(3)The term is a misnomer, because the goal is the extraction of patterns and knowledge from large amounts of data, not the extraction  of data itself..Data mining is the process of discovering patterns in large data sets involving methods at the intersection of machine learning, statistics, and database systems\n",
      "(4)Within the field of data analytics, machine learning is a method used to devise complex models and algorithms that lend themselves to prediction; in commercial use, this is known as predictive analytics. These analytical models allow researchers, data scientists, engineers, and analysts to produce reliable, repeatable decisions and results and uncover hidden insights through learning from historical relationships and trends in the data\n",
      "(5)Artificial neural networks (ANNs) or connectionist systems are computing systems vaguely inspired by the biological neural networks that constitute animal brains. Such systems learn tasks by considering examples, generally without task-specific programming. For example, in image recognition, they might learn to identify images that contain cats by analyzing example images that have been manually labeled as \"cat\" or \"no cat\" and using the results to identify cats in other images. They do this without any a priori knowledge about cats, e.g., that they have fur, tails, whiskers and cat-like faces. Instead, they evolve their own set of relevant characteristics from the learning material that they process.\n"
     ]
    }
   ],
   "source": [
    "with open (\"C:/Users/Venant/Desktop/5docs.txt\", \"r\") as g:\n",
    "    bow = g.read()\n",
    "    print(bow)"
   ]
  },
  {
   "cell_type": "code",
   "execution_count": 82,
   "metadata": {},
   "outputs": [
    {
     "name": "stdout",
     "output_type": "stream",
     "text": [
      "{'', 'might', 'and', 'biological', 'themselves', 'examples,', 'decisions', '(ANNs)', 'recognition,', 'machine', 'been', 'constitute', 'without', 'other', 'testing', 'through', 'sets', 'goal', 'models', 'misnomer,', 'extraction', 'scientists,', 'using', 'use,', 'field', 'learn', 'this', 'students', 'the', 'insights', 'These', 'tasks', 'characteristics', 'Testing', 'have', 'e.g.,', 'manually', 'because', 'they', 'cats', 'image', 'methods', 'from', 'cats,', 'term', 'data\\n(5)Artificial', 'generally', 'much.Data', 'Instead,', 'considering', 'data,', 'any', 'about', 'of', 'lend', 'identify', 'systems.The', 'data', 'knowledge.Thanks', '(1)Regina', 'vaguely', 'historical', 'do', 'intersection', 'cat-like', 'as', 'large', 'whiskers', 'process.', '\"cat\"', 'set', 'statistics,', 'systems', 'or', 'hidden', 'priori', 'inspired', 'brains.', 'learning,', 'systems\\n(4)Within', 'known', 'involving', 'analytics,', 'trends', 'not', 'own', 'networks', 'to', 'devise', 'produce', 'systems.\\n(2)Data', 'relevant', 'know', 'is', 'process', 'task-specific', 'are', 'amounts', 'reliable,', 'researchers,', 'predictive', 'complex', 'their', 'programming.', 'you', 'images', 'computing', 'method', 'used', 'evolve', 'in', 'neural', 'fur,', 'analytics.', 'For', 'uncover', 'repeatable', 'itself.\\n(3)The', 'learning', 'by', 'mining', 'database', 'relationships', 'They', 'alot.', 'patterns', 'connectionist', 'commercial', 'very', 'labeled', 'discovering', 'knowledge', 'animal', 'contain', 'analyzing', 'allow', 'itself..Data', 'a', 'that', 'algorithms', 'prediction;', 'at', 'engineers,', 'results', 'images.', 'Such', 'cat\"', 'example,', 'analysts', 'faces.', 'example', 'material', '\"no', 'analytical', 'way', 'tails,'}\n"
     ]
    }
   ],
   "source": [
    "with open (\"C:/Users/Venant/Desktop/5docs.txt\", \"r\") as g:\n",
    "    bow = g.read().split(\" \")\n",
    "    wordSet= set(bow)\n",
    "    print(wordSet)"
   ]
  },
  {
   "cell_type": "code",
   "execution_count": 73,
   "metadata": {},
   "outputs": [],
   "source": [
    "wordDictA = dict.fromkeys(wordSet, 0)"
   ]
  },
  {
   "cell_type": "code",
   "execution_count": 75,
   "metadata": {},
   "outputs": [
    {
     "name": "stdout",
     "output_type": "stream",
     "text": [
      "{'': 0, 'learning,': 0, 'might': 0, 'and': 0, 'cat\"': 0, 'commercial': 0, 'involving': 0, 'uncover': 0, 'analytics,': 0, 'themselves': 0, 'decisions': 0, 'e.g.,': 0, 'networks': 0, 'to': 0, 'produce': 0, '(ANNs)': 0, 'recognition,': 0, 'machine': 0, 'prediction;': 0, 'constitute': 0, 'known': 0, 'you': 0, 'testing': 0, 'biological': 0, 'do': 0, 'through': 0, 'connectionist': 0, 'relevant': 0, 'knowledge': 0, 'know': 0, 'images': 0, 'they': 0, 'is': 0, 'process': 0, 'sets': 0, 'goal': 0, 'misnomer,': 0, 'extraction': 0, 'systems\\n(4)Within': 0, 'amounts': 0, 'models': 0, 'reliable,': 0, 'using': 0, 'students': 0, 'learning': 0, 'use,': 0, 'discovering': 0, 'complex': 0, 'their': 0, 'programming.': 0, 'results': 0, 'trends': 0, 'field': 0, 'learn': 0, 'this': 0, 'computing': 0, 'insights': 0, 'method': 0, 'examples,': 0, 'example,': 0, 'faces.': 0, 'the': 0, 'material': 0, 'are': 0, 'These': 0, 'not': 0, 'in': 0, 'tasks': 0, 'own': 0, 'characteristics': 0, 'fur,': 0, 'other': 0, 'scientists,': 0, 'used': 0, 'devise': 0, 'For': 0, 'Testing': 0, 'have': 0, 'repeatable': 0, 'itself.\\n(3)The': 0, 'manually': 0, 'because': 0, 'way': 0, 'by': 0, 'cats': 0, 'evolve': 0, 'contain': 0, 'image': 0, 'mining': 0, 'images.': 0, 'database': 0, '\"no': 0, 'researchers,': 0, 'relationships': 0, 'methods': 0, 'They': 0, 'alot.': 0, 'been': 0, 'term': 0, 'generally': 0, 'very': 0, 'predictive': 0, 'much.Data': 0, 'Instead,': 0, 'analyzing': 0, 'or': 0, 'considering': 0, 'without': 0, 'data,': 0, 'animal': 0, 'any': 0, 'from': 0, 'about': 0, 'of': 0, 'vaguely': 0, 'lend': 0, 'neural': 0, 'identify': 0, 'systems.The': 0, 'task-specific': 0, 'patterns': 0, 'data': 0, 'knowledge.Thanks': 0, 'cats,': 0, 'itself..Data': 0, 'allow': 0, 'data\\n(5)Artificial': 0, 'a': 0, 'that': 0, 'historical': 0, 'intersection': 0, 'at': 0, 'cat-like': 0, 'engineers,': 0, 'as': 0, 'large': 0, 'whiskers': 0, 'Such': 0, 'process.': 0, '\"cat\"': 0, 'algorithms': 0, 'set': 0, 'statistics,': 0, 'systems': 0, 'labeled': 0, 'analysts': 0, '(1)Regina': 0, 'example': 0, 'hidden': 0, 'analytical': 0, 'priori': 0, 'analytics.': 0, 'inspired': 0, 'systems.\\n(2)Data': 0, 'brains.': 0, 'tails,': 0}\n"
     ]
    }
   ],
   "source": [
    "print(wordDictA)"
   ]
  },
  {
   "cell_type": "code",
   "execution_count": null,
   "metadata": {},
   "outputs": [],
   "source": []
  }
 ],
 "metadata": {
  "kernelspec": {
   "display_name": "Python 3",
   "language": "python",
   "name": "python3"
  },
  "language_info": {
   "codemirror_mode": {
    "name": "ipython",
    "version": 3
   },
   "file_extension": ".py",
   "mimetype": "text/x-python",
   "name": "python",
   "nbconvert_exporter": "python",
   "pygments_lexer": "ipython3",
   "version": "3.5.0"
  }
 },
 "nbformat": 4,
 "nbformat_minor": 2
}
