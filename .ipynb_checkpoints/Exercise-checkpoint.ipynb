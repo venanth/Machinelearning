{
 "cells": [
  {
   "cell_type": "code",
   "execution_count": 1,
   "metadata": {},
   "outputs": [],
   "source": [
    "#A function called sum_two that takes in two inputs and it returns the sum of those two numbers.\n",
    "def sum_two(number_1,number_2):\n",
    "    return number_1+number_2"
   ]
  },
  {
   "cell_type": "code",
   "execution_count": 74,
   "metadata": {},
   "outputs": [
    {
     "name": "stdout",
     "output_type": "stream",
     "text": [
      "300\n",
      "1200\n",
      "30\n",
      "31.0\n",
      "10\n"
     ]
    }
   ],
   "source": [
    "print(sum_two(100,200))\n",
    "print(sum_two(500,700))\n",
    "print(sum_two(10,20))\n",
    "print(sum_two(10.3,20.7))\n",
    "print(sum_two(5,5))"
   ]
  },
  {
   "cell_type": "code",
   "execution_count": 14,
   "metadata": {},
   "outputs": [],
   "source": [
    "def square_number(number):\n",
    "    return number*number\n",
    "#Do not remove lines below here,\n",
    "#this is designed to test your code \n",
    "def test_square_number():\n",
    "    assert square_number(2)==4\n",
    "    assert square_number(8)==64\n",
    "    assert square_number(10)==10\n",
    "    print(\"YOUR CODE IS CORRECT\")\n",
    "#test your code by un-commenting the lines below\n",
    "    test_square_number()"
   ]
  },
  {
   "cell_type": "code",
   "execution_count": 15,
   "metadata": {},
   "outputs": [
    {
     "name": "stdout",
     "output_type": "stream",
     "text": [
      "4\n",
      "100\n",
      "144\n",
      "121\n",
      "100\n"
     ]
    }
   ],
   "source": [
    "print(square_number(2))\n",
    "print(square_number(10))\n",
    "print(square_number(12))\n",
    "print(square_number(11))\n",
    "print(square_number(10))"
   ]
  },
  {
   "cell_type": "code",
   "execution_count": 22,
   "metadata": {},
   "outputs": [],
   "source": [
    "def is_even(number):\n",
    "    if number%2==0:\n",
    "        return True\n",
    "    else:\n",
    "        return False\n",
    "def test_is_even():\n",
    "    assert test_is_even(2)==True\n",
    "    assert test_is_even(4)==True\n",
    "    assert test_is_even(5)==False\n",
    "    print(\"YOUR CODE IS CORRECT\")\n",
    "    test_is_even()\n",
    "    "
   ]
  },
  {
   "cell_type": "code",
   "execution_count": 21,
   "metadata": {},
   "outputs": [
    {
     "data": {
      "text/plain": [
       "True"
      ]
     },
     "execution_count": 21,
     "metadata": {},
     "output_type": "execute_result"
    }
   ],
   "source": [
    "is_even(10)"
   ]
  },
  {
   "cell_type": "code",
   "execution_count": 23,
   "metadata": {},
   "outputs": [
    {
     "data": {
      "text/plain": [
       "False"
      ]
     },
     "execution_count": 23,
     "metadata": {},
     "output_type": "execute_result"
    }
   ],
   "source": [
    "is_even(5)"
   ]
  },
  {
   "cell_type": "code",
   "execution_count": 24,
   "metadata": {},
   "outputs": [
    {
     "data": {
      "text/plain": [
       "True"
      ]
     },
     "execution_count": 24,
     "metadata": {},
     "output_type": "execute_result"
    }
   ],
   "source": [
    "is_even(5210222)"
   ]
  },
  {
   "cell_type": "code",
   "execution_count": 25,
   "metadata": {},
   "outputs": [
    {
     "data": {
      "text/plain": [
       "False"
      ]
     },
     "execution_count": 25,
     "metadata": {},
     "output_type": "execute_result"
    }
   ],
   "source": [
    "is_even(23.5)"
   ]
  },
  {
   "cell_type": "code",
   "execution_count": 26,
   "metadata": {},
   "outputs": [],
   "source": [
    "def is_even(number):\n",
    "    return number%2 == 0"
   ]
  },
  {
   "cell_type": "code",
   "execution_count": 27,
   "metadata": {},
   "outputs": [
    {
     "data": {
      "text/plain": [
       "False"
      ]
     },
     "execution_count": 27,
     "metadata": {},
     "output_type": "execute_result"
    }
   ],
   "source": [
    "is_even(1)"
   ]
  },
  {
   "cell_type": "code",
   "execution_count": 28,
   "metadata": {},
   "outputs": [
    {
     "data": {
      "text/plain": [
       "9"
      ]
     },
     "execution_count": 28,
     "metadata": {},
     "output_type": "execute_result"
    }
   ],
   "source": [
    "string_len=\"Habamungu\"\n",
    "len(string_len)"
   ]
  },
  {
   "cell_type": "code",
   "execution_count": 32,
   "metadata": {},
   "outputs": [],
   "source": [
    "def is_odd(number):\n",
    "    if number%2==0:\n",
    "        return False\n",
    "    else:\n",
    "        return True "
   ]
  },
  {
   "cell_type": "code",
   "execution_count": 33,
   "metadata": {},
   "outputs": [
    {
     "data": {
      "text/plain": [
       "False"
      ]
     },
     "execution_count": 33,
     "metadata": {},
     "output_type": "execute_result"
    }
   ],
   "source": [
    "is_odd(6)"
   ]
  },
  {
   "cell_type": "code",
   "execution_count": 34,
   "metadata": {},
   "outputs": [
    {
     "data": {
      "text/plain": [
       "True"
      ]
     },
     "execution_count": 34,
     "metadata": {},
     "output_type": "execute_result"
    }
   ],
   "source": [
    "is_odd(67)"
   ]
  },
  {
   "cell_type": "code",
   "execution_count": 37,
   "metadata": {},
   "outputs": [],
   "source": [
    "def is_odd(number):\n",
    "    return number%2 !=0\n",
    "    "
   ]
  },
  {
   "cell_type": "code",
   "execution_count": 38,
   "metadata": {},
   "outputs": [
    {
     "data": {
      "text/plain": [
       "True"
      ]
     },
     "execution_count": 38,
     "metadata": {},
     "output_type": "execute_result"
    }
   ],
   "source": [
    "is_odd(13)"
   ]
  },
  {
   "cell_type": "code",
   "execution_count": 39,
   "metadata": {},
   "outputs": [
    {
     "data": {
      "text/plain": [
       "False"
      ]
     },
     "execution_count": 39,
     "metadata": {},
     "output_type": "execute_result"
    }
   ],
   "source": [
    "is_odd(20)"
   ]
  },
  {
   "cell_type": "code",
   "execution_count": 45,
   "metadata": {},
   "outputs": [],
   "source": [
    "def string_length(string):\n",
    "    return len(string)"
   ]
  },
  {
   "cell_type": "code",
   "execution_count": 52,
   "metadata": {},
   "outputs": [],
   "source": [
    "#string_length(\"HabamunguVenant\")"
   ]
  },
  {
   "cell_type": "code",
   "execution_count": 55,
   "metadata": {},
   "outputs": [
    {
     "name": "stdout",
     "output_type": "stream",
     "text": [
      "20\n",
      "19\n",
      "15\n",
      "15\n"
     ]
    }
   ],
   "source": [
    "print(string_length(\"NgezahumuremyiLeonie\"))\n",
    "print(string_length(\"MukashemaBernadette\"))\n",
    "print(string_length(\"HabamunguVenant\"))\n",
    "print(string_length(\"RwizihirwaFelix\"))"
   ]
  },
  {
   "cell_type": "code",
   "execution_count": 72,
   "metadata": {},
   "outputs": [],
   "source": [
    "def last_letter(string):\n",
    "    for i in string:\n",
    "        n=len(string)\n",
    "    return string[-1]"
   ]
  },
  {
   "cell_type": "code",
   "execution_count": 73,
   "metadata": {},
   "outputs": [
    {
     "data": {
      "text/plain": [
       "'u'"
      ]
     },
     "execution_count": 73,
     "metadata": {},
     "output_type": "execute_result"
    }
   ],
   "source": [
    "last_letter(\"Habamungu\")"
   ]
  },
  {
   "cell_type": "code",
   "execution_count": 76,
   "metadata": {},
   "outputs": [],
   "source": [
    "def bigger_guy(number_1,number_2):\n",
    "    if number_1>number_2:\n",
    "        return number_1\n",
    "    else:\n",
    "        return number_2"
   ]
  },
  {
   "cell_type": "code",
   "execution_count": 77,
   "metadata": {},
   "outputs": [
    {
     "data": {
      "text/plain": [
       "30"
      ]
     },
     "execution_count": 77,
     "metadata": {},
     "output_type": "execute_result"
    }
   ],
   "source": [
    "bigger_guy(20,30)"
   ]
  },
  {
   "cell_type": "code",
   "execution_count": 82,
   "metadata": {},
   "outputs": [
    {
     "name": "stdout",
     "output_type": "stream",
     "text": [
      "1000\n",
      "2000\n",
      "4\n"
     ]
    }
   ],
   "source": [
    "print(bigger_guy(1000,30))\n",
    "print(bigger_guy(2000,300))\n",
    "print(bigger_guy(4,4))"
   ]
  },
  {
   "cell_type": "code",
   "execution_count": 103,
   "metadata": {},
   "outputs": [],
   "source": [
    "def biggest_guy(num1,num2,num3):\n",
    "    if num1>num2>num3:\n",
    "        return num1\n",
    "    elif num1>num2<num3 and num1>num3:\n",
    "        return num1\n",
    "    elif num1>num2<num3 and num1<num3:\n",
    "        return num3\n",
    "    elif num1<num2<num3:\n",
    "        return num3\n",
    "    elif num1<num2>num3:\n",
    "        return num2"
   ]
  },
  {
   "cell_type": "code",
   "execution_count": 104,
   "metadata": {},
   "outputs": [
    {
     "data": {
      "text/plain": [
       "2"
      ]
     },
     "execution_count": 104,
     "metadata": {},
     "output_type": "execute_result"
    }
   ],
   "source": [
    "biggest_guy(-10,2,-50)"
   ]
  },
  {
   "cell_type": "code",
   "execution_count": 106,
   "metadata": {},
   "outputs": [
    {
     "name": "stdout",
     "output_type": "stream",
     "text": [
      "202\n",
      "100\n",
      "202\n",
      "3\n"
     ]
    }
   ],
   "source": [
    "print(biggest_guy(-100, 202,-50))\n",
    "print(biggest_guy(100,-202,-500))\n",
    "print(biggest_guy(100,202,50))\n",
    "print(biggest_guy(1,2,3))"
   ]
  },
  {
   "cell_type": "code",
   "execution_count": 109,
   "metadata": {},
   "outputs": [],
   "source": [
    "def grand(x,y):\n",
    "    if x>y:\n",
    "        return x\n",
    "    else:\n",
    "        return y\n",
    "    "
   ]
  },
  {
   "cell_type": "code",
   "execution_count": 110,
   "metadata": {},
   "outputs": [],
   "source": [
    "def grandest(x, y, z):\n",
    "    if grand(x,y)>z:\n",
    "        return grand(x,y)\n",
    "    else:\n",
    "        return z\n",
    "        "
   ]
  },
  {
   "cell_type": "code",
   "execution_count": 111,
   "metadata": {},
   "outputs": [
    {
     "name": "stdout",
     "output_type": "stream",
     "text": [
      "202\n",
      "100\n",
      "202\n",
      "3\n"
     ]
    }
   ],
   "source": [
    "print(biggest_guy(-100, 202,-50))\n",
    "print(biggest_guy(100,-202,-500))\n",
    "print(biggest_guy(100,202,50))\n",
    "print(biggest_guy(1,2,3))"
   ]
  },
  {
   "cell_type": "code",
   "execution_count": 112,
   "metadata": {},
   "outputs": [],
   "source": [
    "def grandest(x, y, z):\n",
    "    return grand(grand(x,y),z)"
   ]
  },
  {
   "cell_type": "code",
   "execution_count": 115,
   "metadata": {},
   "outputs": [
    {
     "name": "stdout",
     "output_type": "stream",
     "text": [
      "202\n",
      "100\n",
      "202\n",
      "3\n"
     ]
    }
   ],
   "source": [
    "print(grandest(-100, 202,-50))\n",
    "print(grandest(100,-202,-500))\n",
    "print(grandest(100,202,50))\n",
    "print(grandest(1,2,3))"
   ]
  },
  {
   "cell_type": "code",
   "execution_count": 117,
   "metadata": {},
   "outputs": [],
   "source": [
    "def sawa(x, y, z):\n",
    "    return max(x,y,z)"
   ]
  },
  {
   "cell_type": "code",
   "execution_count": 118,
   "metadata": {},
   "outputs": [
    {
     "name": "stdout",
     "output_type": "stream",
     "text": [
      "202\n",
      "100\n",
      "202\n",
      "3\n"
     ]
    }
   ],
   "source": [
    "print(sawa(-100, 202,-50))\n",
    "print(sawa(100,-202,-500))\n",
    "print(sawa(100,202,50))\n",
    "print(sawa(1,2,3))"
   ]
  },
  {
   "cell_type": "code",
   "execution_count": 121,
   "metadata": {},
   "outputs": [],
   "source": [
    "def sawa2(x, y, z):\n",
    "    return min(x,y,z)"
   ]
  },
  {
   "cell_type": "code",
   "execution_count": 122,
   "metadata": {},
   "outputs": [
    {
     "name": "stdout",
     "output_type": "stream",
     "text": [
      "-100\n",
      "-500\n",
      "50\n",
      "1\n"
     ]
    }
   ],
   "source": [
    "print(sawa2(-100, 202,-50))\n",
    "print(sawa2(100,-202,-500))\n",
    "print(sawa2(100,202,50))\n",
    "print(sawa2(1,2,3))"
   ]
  },
  {
   "cell_type": "code",
   "execution_count": 129,
   "metadata": {},
   "outputs": [],
   "source": [
    "def race_ranking(rank):\n",
    "    if rank==\"Usain Bolt\":\n",
    "        return 1\n",
    "    elif rank==\"Venant\":\n",
    "        return 2\n",
    "    elif rank==\"Qazi\":\n",
    "        return 3\n",
    "    "
   ]
  },
  {
   "cell_type": "code",
   "execution_count": 132,
   "metadata": {},
   "outputs": [
    {
     "name": "stdout",
     "output_type": "stream",
     "text": [
      "1\n",
      "2\n",
      "3\n"
     ]
    }
   ],
   "source": [
    "print(race_ranking('Usain Bolt'))\n",
    "print(race_ranking('Venant'))\n",
    "print(race_ranking('Qazi'))"
   ]
  },
  {
   "cell_type": "code",
   "execution_count": 150,
   "metadata": {},
   "outputs": [],
   "source": [
    "def race_ranking1(rank1):\n",
    "    if rank1==1:\n",
    "        return \"Usain Bolt\"\n",
    "    elif rank1==2:\n",
    "        return \"Me\"\n",
    "    elif rank1==3:\n",
    "        return \"Qazi\""
   ]
  },
  {
   "cell_type": "code",
   "execution_count": 152,
   "metadata": {},
   "outputs": [
    {
     "name": "stdout",
     "output_type": "stream",
     "text": [
      "Qazi\n",
      "Usain Bolt\n",
      "Me\n"
     ]
    }
   ],
   "source": [
    "print(race_ranking1(3))\n",
    "print(race_ranking1(1))\n",
    "print(race_ranking1(2))"
   ]
  },
  {
   "cell_type": "code",
   "execution_count": 176,
   "metadata": {},
   "outputs": [],
   "source": [
    "def choice_to_number(choice):\n",
    "    race_dict = {'Michael':1,\"Samuel\":2,\"Qazi\":3}\n",
    "    return race_dict[choice]"
   ]
  },
  {
   "cell_type": "code",
   "execution_count": 178,
   "metadata": {},
   "outputs": [
    {
     "name": "stdout",
     "output_type": "stream",
     "text": [
      "1\n"
     ]
    }
   ],
   "source": [
    "print(choice_to_number('Michael'))"
   ]
  },
  {
   "cell_type": "code",
   "execution_count": 193,
   "metadata": {},
   "outputs": [
    {
     "name": "stdout",
     "output_type": "stream",
     "text": [
      "2\n",
      "3\n"
     ]
    }
   ],
   "source": [
    "print(choice_to_number(\"Samuel\"))\n",
    "print(choice_to_number(\"Qazi\"))\n"
   ]
  },
  {
   "cell_type": "code",
   "execution_count": 199,
   "metadata": {},
   "outputs": [],
   "source": [
    "def choice_to_number1(number):\n",
    "    return {1:'Usain',2:\"Venant\",3:\"Qazi\"}[number]\n",
    "  "
   ]
  },
  {
   "cell_type": "code",
   "execution_count": 200,
   "metadata": {},
   "outputs": [
    {
     "name": "stdout",
     "output_type": "stream",
     "text": [
      "Venant\n"
     ]
    }
   ],
   "source": [
    "print(choice_to_number1(2))\n"
   ]
  },
  {
   "cell_type": "code",
   "execution_count": 201,
   "metadata": {},
   "outputs": [
    {
     "name": "stdout",
     "output_type": "stream",
     "text": [
      "Usain\n",
      "Qazi\n"
     ]
    }
   ],
   "source": [
    "print(choice_to_number1(1))\n",
    "print(choice_to_number1(3))\n",
    "\n"
   ]
  },
  {
   "cell_type": "code",
   "execution_count": null,
   "metadata": {},
   "outputs": [],
   "source": []
  }
 ],
 "metadata": {
  "kernelspec": {
   "display_name": "Python 3",
   "language": "python",
   "name": "python3"
  },
  "language_info": {
   "codemirror_mode": {
    "name": "ipython",
    "version": 3
   },
   "file_extension": ".py",
   "mimetype": "text/x-python",
   "name": "python",
   "nbconvert_exporter": "python",
   "pygments_lexer": "ipython3",
   "version": "3.5.0"
  }
 },
 "nbformat": 4,
 "nbformat_minor": 2
}
