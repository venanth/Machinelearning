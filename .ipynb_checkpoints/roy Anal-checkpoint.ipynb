{
 "cells": [
  {
   "cell_type": "code",
   "execution_count": 5,
   "metadata": {},
   "outputs": [
    {
     "name": "stdout",
     "output_type": "stream",
     "text": [
      "0.04081632653061224\n",
      "0.5108256237659907\n",
      "0.020850025459836354\n"
     ]
    }
   ],
   "source": [
    "# include modules\n",
    "from os import listdir\n",
    "from os.path import isfile, join\n",
    "import math\n",
    "from textblob import TextBlob as tb\n",
    "\n",
    "\n",
    "# define functions\n",
    "def tf(word, blob):\n",
    "    return blob.words.count(word) / len(blob.words)\n",
    "\n",
    "def n_containing(word, bloblist):\n",
    "    return sum(1 for blob in bloblist if word in blob.words)\n",
    "\n",
    "def idf(word, bloblist):\n",
    "    return math.log(len(bloblist) / (1 + n_containing(word, bloblist)))\n",
    "\n",
    "def tfidf(word, blob, bloblist):\n",
    "    return tf(word, blob) * idf(word, bloblist)\n",
    "\n",
    "\n",
    "\n",
    "\n",
    "# fetching documents\n",
    "mypath = \"C:/Users/Venant/Desktop/vectors\"\n",
    "\n",
    "filenames = [f for f in listdir(mypath) if isfile(join(mypath, f))]\n",
    "\n",
    "docs = []\n",
    "\n",
    "for file in filenames:\n",
    "    file_path = mypath + '/' + file \n",
    "    with open(file_path) as f:\n",
    "        str = ' '.join(f.readlines())\n",
    "        docs.append(str)\n",
    "\n",
    "# converting documents into blobs\n",
    "blobs = []\n",
    "\n",
    "for doc in docs:\n",
    "    blob = tb(doc)\n",
    "    # do preprocessing\n",
    "    blobs.append(blob)\n",
    "\n",
    "# calculations\n",
    "word = 'extraction'\n",
    "\n",
    "tf = tf(word, blobs[2])\n",
    "print(tf)\n",
    "\n",
    "\n",
    "idf = idf(word, blobs)\n",
    "print(idf)\n",
    "\n",
    "tfidf = tf*idf\n",
    "print(tfidf)\n",
    "\n",
    "\n",
    "\n"
   ]
  },
  {
   "cell_type": "code",
   "execution_count": null,
   "metadata": {},
   "outputs": [],
   "source": []
  }
 ],
 "metadata": {
  "kernelspec": {
   "display_name": "Python 3",
   "language": "python",
   "name": "python3"
  },
  "language_info": {
   "codemirror_mode": {
    "name": "ipython",
    "version": 3
   },
   "file_extension": ".py",
   "mimetype": "text/x-python",
   "name": "python",
   "nbconvert_exporter": "python",
   "pygments_lexer": "ipython3",
   "version": "3.5.0"
  }
 },
 "nbformat": 4,
 "nbformat_minor": 2
}
