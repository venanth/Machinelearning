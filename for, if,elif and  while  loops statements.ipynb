{
 "cells": [
  {
   "cell_type": "code",
   "execution_count": 21,
   "metadata": {},
   "outputs": [],
   "source": [
    "a= [\"apple\",\"banana\",\"republic\"]"
   ]
  },
  {
   "cell_type": "code",
   "execution_count": 22,
   "metadata": {},
   "outputs": [
    {
     "name": "stdout",
     "output_type": "stream",
     "text": [
      "apple\n",
      "banana\n",
      "republic\n"
     ]
    }
   ],
   "source": [
    "for element in a:\n",
    "    print(element)"
   ]
  },
  {
   "cell_type": "code",
   "execution_count": 23,
   "metadata": {},
   "outputs": [
    {
     "name": "stdout",
     "output_type": "stream",
     "text": [
      "apple\n",
      "banana\n",
      "republic\n"
     ]
    }
   ],
   "source": [
    "for i in range(0,3):#range(0,3) is 0,1,2\n",
    "    print(a[i])"
   ]
  },
  {
   "cell_type": "code",
   "execution_count": 25,
   "metadata": {},
   "outputs": [
    {
     "name": "stdout",
     "output_type": "stream",
     "text": [
      "apple\n",
      "banana\n",
      "republic\n"
     ]
    }
   ],
   "source": [
    "for i in range(len(a)):\n",
    "    print(a[i])"
   ]
  },
  {
   "cell_type": "code",
   "execution_count": 27,
   "metadata": {},
   "outputs": [
    {
     "name": "stdout",
     "output_type": "stream",
     "text": [
      "apple\n",
      "banana\n",
      "banana\n",
      "banana\n",
      "republic\n",
      "republic\n",
      "republic\n",
      "republic\n",
      "republic\n",
      "republic\n"
     ]
    }
   ],
   "source": [
    "for i in range(len(a)):\n",
    "    for j in range(i+1):\n",
    "        #i=0->j=o\n",
    "        #i=1->j=0,1\n",
    "        #i=2->j=0,1,2\n",
    "        for m in range(j+1):\n",
    "            print(a[i])\n",
    "            #i=0->j=0->m=0\n",
    "            #i=1->j=0,1->m=0,1,2\n",
    "            #i=2->j=0,1,2->m=0,1,2,3 "
   ]
  },
  {
   "cell_type": "code",
   "execution_count": 28,
   "metadata": {
    "scrolled": true
   },
   "outputs": [
    {
     "name": "stdout",
     "output_type": "stream",
     "text": [
      "apple\n",
      "apple\n",
      "banana\n",
      "banana\n",
      "banana\n",
      "banana\n",
      "banana\n",
      "banana\n",
      "banana\n",
      "republic\n",
      "republic\n",
      "republic\n",
      "republic\n",
      "republic\n",
      "republic\n",
      "republic\n",
      "republic\n",
      "republic\n",
      "republic\n",
      "republic\n",
      "republic\n",
      "republic\n",
      "republic\n",
      "republic\n",
      "republic\n"
     ]
    }
   ],
   "source": [
    "for i in range(len(a)):\n",
    "    for j in range(i+1):\n",
    "        #i=0->j=o\n",
    "        #i=1->j=0,1\n",
    "        #i=2->j=0,1,2\n",
    "        for m in range(j+1):\n",
    "            print(a[i])\n",
    "            #i=0->j=0->m=0\n",
    "            #i=1->j=0,1->m=0,1,2\n",
    "            #i=2->j=0,1,2->m=0,1,2,3 \n",
    "            for k in range(m+1):\n",
    "                #i=0->j=0->m=0->k=0\n",
    "                #i=1->j=0,1->m=0,1,2->k=0,1,2,3\n",
    "                #i=2->j=0,1,2->m=0,1,2,3 ->k=0,1,2,3,4\n",
    "                 print(a[i]) # 1 apple, 6 banana, 10 republic"
   ]
  },
  {
   "cell_type": "code",
   "execution_count": 29,
   "metadata": {},
   "outputs": [
    {
     "name": "stdout",
     "output_type": "stream",
     "text": [
      "[1, 2, 3, 4, 5, 6, 7, 8, 9, 10, 11, 12, 13, 14, 15, 16, 17, 18, 19, 20, 21, 22, 23, 24, 25, 26, 27, 28, 29, 30, 31, 32, 33, 34, 35, 36, 37, 38, 39, 40, 41, 42, 43, 44, 45, 46, 47, 48, 49, 50, 51, 52, 53, 54, 55, 56, 57, 58, 59, 60, 61, 62, 63, 64, 65, 66, 67, 68, 69, 70, 71, 72, 73, 74, 75, 76, 77, 78, 79, 80, 81, 82, 83, 84, 85, 86, 87, 88, 89, 90, 91, 92, 93, 94, 95, 96, 97, 98, 99]\n"
     ]
    }
   ],
   "source": [
    "#tutorial 5\n",
    "#Can you compute the sum of all multiples of 3 and 5 that are less than 100?\n",
    "print(list(range(1,100)))"
   ]
  },
  {
   "cell_type": "code",
   "execution_count": 30,
   "metadata": {},
   "outputs": [
    {
     "name": "stdout",
     "output_type": "stream",
     "text": [
      "2318\n"
     ]
    }
   ],
   "source": [
    "total=0\n",
    "for i in range(1,100):\n",
    "    if i%3==0:\n",
    "        total=total+i\n",
    "    elif i%5==0:\n",
    "        total +=i\n",
    "print(total)"
   ]
  },
  {
   "cell_type": "code",
   "execution_count": 31,
   "metadata": {},
   "outputs": [
    {
     "name": "stdout",
     "output_type": "stream",
     "text": [
      "2318\n"
     ]
    }
   ],
   "source": [
    "total=0\n",
    "for i in range(1,100):\n",
    "    if i%3==0 or i%5==0:\n",
    "        total=total+i\n",
    "print(total)"
   ]
  },
  {
   "cell_type": "code",
   "execution_count": 36,
   "metadata": {},
   "outputs": [
    {
     "name": "stdout",
     "output_type": "stream",
     "text": [
      "[7, 5, 4, 4, 3, 1, -2, -3, -5, -7]\n",
      "-17\n"
     ]
    }
   ],
   "source": [
    "#tutorial 6\n",
    "d = [7,5,4,4,3,1,-2,-3,-5,-7]\n",
    "print(d)\n",
    "total2 = 0\n",
    "j= len(d)-1\n",
    "while d[j]<0:\n",
    "    total2 += d[j]\n",
    "    j -= 1\n",
    "print(total2)"
   ]
  },
  {
   "cell_type": "code",
   "execution_count": 37,
   "metadata": {},
   "outputs": [],
   "source": [
    "#sorry...\n",
    "#don't want to wait for the next tutorial?\n",
    "#I'd recommend my courses on Lynda.com and Pluralsight\n",
    "#-Lynda.com:Get Ready for your coding Interview \n",
    "#-Pluralsight: Introduction to Data visualization with Python\n",
    "#(you can take these for free)\n",
    "#Links in the description below\n",
    "# more youtube tutorials coming up too!"
   ]
  },
  {
   "cell_type": "code",
   "execution_count": 38,
   "metadata": {},
   "outputs": [
    {
     "name": "stdout",
     "output_type": "stream",
     "text": [
      "19\n"
     ]
    }
   ],
   "source": [
    "v=[3,6,10]\n",
    "totali=0\n",
    "for i in v:\n",
    "    if i%3==0:\n",
    "        totali +=i\n",
    "    elif i%5==0:\n",
    "        totali +=i\n",
    "print(totali)"
   ]
  },
  {
   "cell_type": "code",
   "execution_count": 39,
   "metadata": {},
   "outputs": [
    {
     "name": "stdout",
     "output_type": "stream",
     "text": [
      "19\n"
     ]
    }
   ],
   "source": [
    "v=[3,6,10]\n",
    "totali=0\n",
    "for i in v:\n",
    "    if i%3==0 or i%5==0:\n",
    "        totali +=i\n",
    "print(totali)"
   ]
  },
  {
   "cell_type": "code",
   "execution_count": 40,
   "metadata": {},
   "outputs": [
    {
     "name": "stdout",
     "output_type": "stream",
     "text": [
      "10\n"
     ]
    }
   ],
   "source": [
    "v=[3,6,10]\n",
    "totali=0\n",
    "for i in v:\n",
    "    if i%2==0 and i%5==0:\n",
    "        totali +=i\n",
    "print(totali)"
   ]
  }
 ],
 "metadata": {
  "kernelspec": {
   "display_name": "Python 3",
   "language": "python",
   "name": "python3"
  },
  "language_info": {
   "codemirror_mode": {
    "name": "ipython",
    "version": 3
   },
   "file_extension": ".py",
   "mimetype": "text/x-python",
   "name": "python",
   "nbconvert_exporter": "python",
   "pygments_lexer": "ipython3",
   "version": "3.5.0"
  }
 },
 "nbformat": 4,
 "nbformat_minor": 2
}
