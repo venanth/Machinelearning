{
 "cells": [
  {
   "cell_type": "code",
   "execution_count": 1,
   "metadata": {},
   "outputs": [
    {
     "name": "stdout",
     "output_type": "stream",
     "text": [
      "Enter Numbers to add to the sum. \n",
      "Enter 0 to quit.\n",
      "Current Sum:  0\n",
      "Number? 20\n",
      "Current Sum:  20.0\n",
      "Number? 100\n",
      "Current Sum:  120.0\n",
      "Number? 1000\n",
      "Current Sum:  1120.0\n",
      "Number? 1500\n",
      "Current Sum:  2620.0\n",
      "Number? 0\n",
      "Total Sum=  2620.0\n"
     ]
    }
   ],
   "source": [
    "a=1\n",
    "s=0\n",
    "print('Enter Numbers to add to the sum. ')\n",
    "print('Enter 0 to quit.')\n",
    "while a !=0:\n",
    "    print('Current Sum: ', s)\n",
    "    a = float(input('Number? '))\n",
    "    a=float(a)\n",
    "    s +=a\n",
    "print('Total Sum= ', s)"
   ]
  },
  {
   "cell_type": "code",
   "execution_count": 2,
   "metadata": {},
   "outputs": [
    {
     "name": "stdout",
     "output_type": "stream",
     "text": [
      "2\n",
      "5\n",
      "3\n",
      "6\n"
     ]
    }
   ],
   "source": [
    "# wHILE LOOP & FOR LOOP\n",
    "#WHILE wait for the condition to be true, and execute the code, FOR does not have a condition\n",
    "b=[2,5,3,6]\n",
    "for num in b:\n",
    "    print(num)"
   ]
  },
  {
   "cell_type": "code",
   "execution_count": 3,
   "metadata": {},
   "outputs": [
    {
     "name": "stdout",
     "output_type": "stream",
     "text": [
      "Hello Mark\n"
     ]
    }
   ],
   "source": [
    "# a function is a group of statements that together perform a specific task.\n",
    "#make your code readable and maintainable.\n",
    "#To wirte a specific logic again and again use a function.\n",
    "# def functionname(arg1,arg2,....):\n",
    "      #statement1\n",
    "      #statement2\n",
    "     #statements...\n",
    "    #print statement is laso a function(a --builtin function ----)\n",
    "print('Hello Mark')"
   ]
  },
  {
   "cell_type": "code",
   "execution_count": 4,
   "metadata": {},
   "outputs": [],
   "source": [
    "def hello(name):\n",
    "    print(\"Hello\",name)"
   ]
  },
  {
   "cell_type": "code",
   "execution_count": 5,
   "metadata": {},
   "outputs": [
    {
     "name": "stdout",
     "output_type": "stream",
     "text": [
      "Hello Venant\n"
     ]
    }
   ],
   "source": [
    "hello(\"Venant\")"
   ]
  },
  {
   "cell_type": "code",
   "execution_count": 7,
   "metadata": {},
   "outputs": [
    {
     "name": "stdout",
     "output_type": "stream",
     "text": [
      "Hello David\n"
     ]
    }
   ],
   "source": [
    "hello(\"David\")"
   ]
  },
  {
   "cell_type": "code",
   "execution_count": 8,
   "metadata": {},
   "outputs": [],
   "source": [
    "def add(x,y):\n",
    "    return(x+y)\n"
   ]
  },
  {
   "cell_type": "code",
   "execution_count": 10,
   "metadata": {},
   "outputs": [],
   "source": [
    "sum1= add(100,500)"
   ]
  },
  {
   "cell_type": "code",
   "execution_count": 11,
   "metadata": {},
   "outputs": [
    {
     "data": {
      "text/plain": [
       "600"
      ]
     },
     "execution_count": 11,
     "metadata": {},
     "output_type": "execute_result"
    }
   ],
   "source": [
    "sum1"
   ]
  },
  {
   "cell_type": "code",
   "execution_count": 12,
   "metadata": {},
   "outputs": [
    {
     "data": {
      "text/plain": [
       "4"
      ]
     },
     "execution_count": 12,
     "metadata": {},
     "output_type": "execute_result"
    }
   ],
   "source": [
    "sum2=add(1,3)\n",
    "sum2"
   ]
  },
  {
   "cell_type": "code",
   "execution_count": 16,
   "metadata": {},
   "outputs": [],
   "source": [
    "def studentScore(name,score):\n",
    "    print(name,\"Scored\",score, 'points')"
   ]
  },
  {
   "cell_type": "code",
   "execution_count": 17,
   "metadata": {},
   "outputs": [
    {
     "name": "stdout",
     "output_type": "stream",
     "text": [
      "Venant Scored 100 points\n"
     ]
    }
   ],
   "source": [
    "studentScore(\"Venant\",100)"
   ]
  },
  {
   "cell_type": "code",
   "execution_count": 18,
   "metadata": {},
   "outputs": [],
   "source": [
    "def studentScore(name=\"tom\",score=0):\n",
    "    print(name,\"Scored\",score, 'marks')"
   ]
  },
  {
   "cell_type": "code",
   "execution_count": 19,
   "metadata": {},
   "outputs": [
    {
     "name": "stdout",
     "output_type": "stream",
     "text": [
      "tom Scored 0 marks\n"
     ]
    }
   ],
   "source": [
    "studentScore()"
   ]
  },
  {
   "cell_type": "code",
   "execution_count": 21,
   "metadata": {},
   "outputs": [
    {
     "name": "stdout",
     "output_type": "stream",
     "text": [
      "tom Scored 0 marks\n"
     ]
    }
   ],
   "source": [
    "studentScore(name=\"tom\",score=0)"
   ]
  },
  {
   "cell_type": "code",
   "execution_count": 22,
   "metadata": {},
   "outputs": [
    {
     "name": "stdout",
     "output_type": "stream",
     "text": [
      "HABAMUNGU Scored 98 marks\n"
     ]
    }
   ],
   "source": [
    "studentScore(\"HABAMUNGU\",98)"
   ]
  },
  {
   "cell_type": "code",
   "execution_count": 29,
   "metadata": {},
   "outputs": [],
   "source": [
    "def studentScore(name,*score):\n",
    "    print(name) \n",
    "    print (score)"
   ]
  },
  {
   "cell_type": "code",
   "execution_count": 38,
   "metadata": {},
   "outputs": [
    {
     "name": "stdout",
     "output_type": "stream",
     "text": [
      "Sifa\n",
      "(50, 60, 100, 90, 77)\n"
     ]
    }
   ],
   "source": [
    "studentScore(\"Sifa\",50,60,100,90,77)"
   ]
  },
  {
   "cell_type": "code",
   "execution_count": 39,
   "metadata": {},
   "outputs": [
    {
     "name": "stdout",
     "output_type": "stream",
     "text": [
      "Charles\n",
      "(40, 20, 60, 35)\n"
     ]
    }
   ],
   "source": [
    "studentScore(\"Charles\",40,20,60,35)"
   ]
  },
  {
   "cell_type": "code",
   "execution_count": 56,
   "metadata": {},
   "outputs": [],
   "source": [
    "#definition of a class class, indendetion is very important\n",
    "class Person:\n",
    "    def setFullName(self,firstName,lastName):\n",
    "        self.firstName=firstName\n",
    "        self.lastName=lastName\n",
    "    def printFullName(self):\n",
    "        print(self.firstName,\" \",self.lastName)"
   ]
  },
  {
   "cell_type": "code",
   "execution_count": 57,
   "metadata": {},
   "outputs": [
    {
     "name": "stdout",
     "output_type": "stream",
     "text": [
      "programming   Knowledge\n"
     ]
    }
   ],
   "source": [
    "#instanceor object of the class\n",
    "personName=Person()\n",
    "personName.setFullName(\"programming\",\"Knowledge\")\n",
    "personName.printFullName()\n",
    "#self is a pointer to the class"
   ]
  },
  {
   "cell_type": "code",
   "execution_count": 61,
   "metadata": {},
   "outputs": [
    {
     "name": "stdout",
     "output_type": "stream",
     "text": [
      "our class is created\n",
      "5 our class instance is destroyed\n",
      "programming   Knowledge\n"
     ]
    }
   ],
   "source": [
    "#constructors(__init__) and Destructors(__del__) in the class in python\n",
    "#definition of a class class, indendetion is very important\n",
    "class Person:\n",
    "    def __init__(self):#this is a construct, construct for the class instance or class object\n",
    "        print(\"our class is created\")\n",
    "    def setFullName(self,firstName,lastName):\n",
    "        self.firstName=firstName\n",
    "        self.lastName=lastName\n",
    "    def printFullName(self):\n",
    "        print(self.firstName,\" \",self.lastName)\n",
    "#instanceor object of the class\n",
    "personName=Person()\n",
    "personName.setFullName(\"programming\",\"Knowledge\")\n",
    "personName.printFullName()\n",
    "#self is a pointer to the class"
   ]
  },
  {
   "cell_type": "code",
   "execution_count": 62,
   "metadata": {},
   "outputs": [
    {
     "name": "stdout",
     "output_type": "stream",
     "text": [
      "our class is created\n",
      "programming   Knowledge\n",
      "5 our class instance is destroyed\n"
     ]
    }
   ],
   "source": [
    "#constructors(__init__) and Destructors(__del__) in the class in python\n",
    "#definition of a class class, indendetion is very important\n",
    "class Person:\n",
    "    def __init__(self,id):#this is a construct, construct for the class instance or class object\n",
    "        self.id=id\n",
    "        print(\"our class is created\")\n",
    "    def __del__(self):#destructor\n",
    "        print(self.id, \"our class instance is destroyed\")\n",
    "    def setFullName(self,firstName,lastName):\n",
    "        self.firstName=firstName\n",
    "        self.lastName=lastName\n",
    "    def printFullName(self):\n",
    "        print(self.firstName,\" \",self.lastName)\n",
    "#instanceor object of the class\n",
    "personName=Person(5)\n",
    "personName.setFullName(\"programming\",\"Knowledge\")\n",
    "personName.printFullName()\n",
    "personName.__del__()#we had to the destructor here and notice that on the constructor above we didn't have to call it as we are doing here.\n",
    "#self is a pointer to the class"
   ]
  },
  {
   "cell_type": "code",
   "execution_count": 69,
   "metadata": {},
   "outputs": [
    {
     "name": "stdout",
     "output_type": "stream",
     "text": [
      "this is value1\n",
      "this is value2\n",
      "this is value1\n",
      "this is value2\n"
     ]
    }
   ],
   "source": [
    "#Subclasses, Superclasses and Inheritance\n",
    "#Inheritance allows us to define a :\n",
    "#class in terms of another class\n",
    "#which makes it easier to create and maintain an application.\n",
    "#python is an object oriented programming language, \n",
    "#inheritance is the most important concept in object oriented programming language\n",
    "class Parent:\n",
    "    value1=\"this is value1\"\n",
    "    value2=\"this is value2\"\n",
    "    #superclass\n",
    "    \n",
    "class Child(Parent):\n",
    "    pass\n",
    "\n",
    "parent_=Parent()\n",
    "print(parent_.value1)\n",
    "print(parent_.value2)\n",
    "child_=Child()\n",
    "print(child_.value1)\n",
    "print(child_.value2)"
   ]
  },
  {
   "cell_type": "code",
   "execution_count": 122,
   "metadata": {},
   "outputs": [
    {
     "name": "stdout",
     "output_type": "stream",
     "text": [
      "this is value1\n",
      "this is value2\n",
      "two1\n",
      "two2\n"
     ]
    }
   ],
   "source": [
    "#Subclasses, Superclasses and Inheritance\n",
    "#Inheritance allows us to define a :\n",
    "#class in terms of another class\n",
    "#which makes it easier to create and maintain an application.\n",
    "#python is an object oriented programming language, \n",
    "#inheritance is the most important concept in object oriented programming language\n",
    "class Parent1:\n",
    "    value1=\"this is value1\"\n",
    "    value2=\"this is value2\"\n",
    "    #superclass\n",
    "class Parent2:\n",
    "    value1=\"two1\"\n",
    "    value2=\"two2\"\n",
    "    #superclass\n",
    "    \n",
    "class Child(Parent2,Parent1):\n",
    "    pass\n",
    "parent_=Parent()\n",
    "print(parent_.value1)\n",
    "print(parent_.value2)\n",
    "\n",
    "child_=Child()\n",
    "print(child_.value1)\n",
    "print(child_.value2)"
   ]
  },
  {
   "cell_type": "code",
   "execution_count": null,
   "metadata": {},
   "outputs": [],
   "source": []
  }
 ],
 "metadata": {
  "kernelspec": {
   "display_name": "Python 3",
   "language": "python",
   "name": "python3"
  },
  "language_info": {
   "codemirror_mode": {
    "name": "ipython",
    "version": 3
   },
   "file_extension": ".py",
   "mimetype": "text/x-python",
   "name": "python",
   "nbconvert_exporter": "python",
   "pygments_lexer": "ipython3",
   "version": "3.5.0"
  }
 },
 "nbformat": 4,
 "nbformat_minor": 2
}
